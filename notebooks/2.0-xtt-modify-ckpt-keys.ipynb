{
 "cells": [
  {
   "cell_type": "code",
   "execution_count": 2,
   "metadata": {},
   "outputs": [
    {
     "name": "stdout",
     "output_type": "stream",
     "text": [
      "Done:  news_embedding.attention.q_proj.weight\n",
      "Done:  news_embedding.attention.q_proj.bias\n",
      "Done:  news_embedding.attention.k_proj.weight\n",
      "Done:  news_embedding.attention.k_proj.bias\n",
      "Done:  news_embedding.attention.v_proj.weight\n",
      "Done:  news_embedding.attention.v_proj.bias\n",
      "Done:  news_embedding.attention.out_proj.weight\n",
      "Done:  news_embedding.attention.out_proj.bias\n",
      "Done:  news_embedding.linear.weight\n",
      "Done:  news_embedding.linear.bias\n",
      "Checkpoint saved with renamed keys.\n"
     ]
    }
   ],
   "source": [
    "import torch\n",
    "\n",
    "# Load the checkpoint\n",
    "checkpoint_path = \"path/to/your_checkpoint.ckpt\"\n",
    "checkpoint_path = '/home/tiennv/FPT/Finance_Forecast/Stock_Predictor/models/trained_models/news_embedder/ver_2_8/lightning_logs/tensorboard/News_Embedder_Lightning/version_0/checkpoints/last.ckpt'\n",
    "checkpoint = torch.load(checkpoint_path)\n",
    "\n",
    "# Rename the keys in 'state_dict' by iterating over a list of keys\n",
    "old_prefix = \"news_embedding_core.\"\n",
    "new_prefix = \"news_embedding.\"\n",
    "\n",
    "# Make a list of keys to avoid mutation during iteration\n",
    "keys_to_modify = [k for k in checkpoint['state_dict'] if k.startswith(old_prefix)]\n",
    "for k in keys_to_modify:\n",
    "    new_k = k.replace(old_prefix, new_prefix)\n",
    "    checkpoint['state_dict'][new_k] = checkpoint['state_dict'].pop(k)\n",
    "    print('Done: ', new_k)\n"
   ]
  },
  {
   "cell_type": "code",
   "execution_count": 6,
   "metadata": {},
   "outputs": [],
   "source": [
    "checkpoint['hyper_parameters']['cfg']['news_embedding'] = checkpoint['hyper_parameters']['cfg']['news_embedding_core']"
   ]
  },
  {
   "cell_type": "code",
   "execution_count": 10,
   "metadata": {},
   "outputs": [
    {
     "name": "stdout",
     "output_type": "stream",
     "text": [
      "Checkpoint saved with renamed keys.\n"
     ]
    }
   ],
   "source": [
    "# Save the modified checkpoint\n",
    "new_checkpoint_path = \"path/to/your_new_checkpoint.ckpt\"\n",
    "new_checkpoint_path = checkpoint_path\n",
    "torch.save(checkpoint, new_checkpoint_path)\n",
    "\n",
    "print(f\"Checkpoint saved with renamed keys.\")"
   ]
  },
  {
   "cell_type": "code",
   "execution_count": null,
   "metadata": {},
   "outputs": [],
   "source": []
  }
 ],
 "metadata": {
  "kernelspec": {
   "display_name": "fin",
   "language": "python",
   "name": "python3"
  },
  "language_info": {
   "codemirror_mode": {
    "name": "ipython",
    "version": 3
   },
   "file_extension": ".py",
   "mimetype": "text/x-python",
   "name": "python",
   "nbconvert_exporter": "python",
   "pygments_lexer": "ipython3",
   "version": "3.10.0"
  }
 },
 "nbformat": 4,
 "nbformat_minor": 2
}
